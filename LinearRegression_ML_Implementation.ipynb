{
  "cells": [
    {
      "cell_type": "markdown",
      "metadata": {
        "id": "O3-eCZajkcdx"
      },
      "source": [
        "####IMPORTAMOS LAS LIBRERIAS NECESARIAS####"
      ]
    },
    {
      "cell_type": "code",
      "execution_count": null,
      "metadata": {
        "id": "XokW2YHzjzBj"
      },
      "outputs": [],
      "source": [
        "import pandas as pd\n",
        "import numpy as np\n",
        "import matplotlib.pyplot as plt\n",
        "#este comando nos permite hacer visualizaciones en linea\n",
        "%matplotlib inline"
      ]
    },
    {
      "cell_type": "markdown",
      "metadata": {
        "id": "0MlUPo-8k4Dc"
      },
      "source": [
        "##Cargamos nuestro dataset Boston House Pricing y hacemos un reconocimiento del dataset##"
      ]
    },
    {
      "cell_type": "code",
      "execution_count": null,
      "metadata": {
        "id": "8lvKm-2Uj63E"
      },
      "outputs": [],
      "source": [
        "from sklearn.datasets import fetch_california_housing"
      ]
    },
    {
      "cell_type": "code",
      "execution_count": null,
      "metadata": {
        "id": "qk47Sbdhj7-j"
      },
      "outputs": [],
      "source": [
        "boston=fetch_california_housing()"
      ]
    },
    {
      "cell_type": "code",
      "execution_count": null,
      "metadata": {
        "colab": {
          "base_uri": "https://localhost:8080/",
          "height": 187
        },
        "id": "RAazvSmOj8CL",
        "outputId": "e40e621b-b74c-48a0-a501-48b50e24322b"
      },
      "outputs": [],
      "source": [
        "type(boston)"
      ]
    },
    {
      "cell_type": "code",
      "execution_count": null,
      "metadata": {
        "colab": {
          "base_uri": "https://localhost:8080/"
        },
        "id": "tw2RKOL8j8NK",
        "outputId": "f911805c-8495-489e-e108-4b03a441cc7e"
      },
      "outputs": [],
      "source": [
        "# se utiliza para obtener una lista de las claves almacenadas en la variable o\n",
        "# estructura de datos \"boston\"\n",
        "boston.keys()"
      ]
    },
    {
      "cell_type": "markdown",
      "metadata": {},
      "source": []
    },
    {
      "cell_type": "code",
      "execution_count": null,
      "metadata": {
        "colab": {
          "base_uri": "https://localhost:8080/"
        },
        "id": "ComRBHt2m3Eh",
        "outputId": "e0b19e4d-ea0e-49a3-f18a-cff0b79dad85"
      },
      "outputs": [],
      "source": [
        "#veamos que contiene la variable DESC (description) del dataset\n",
        "print(boston.DESCR)"
      ]
    },
    {
      "cell_type": "code",
      "execution_count": null,
      "metadata": {
        "colab": {
          "base_uri": "https://localhost:8080/"
        },
        "id": "9JCHLb65m3I0",
        "outputId": "86370fc6-20f3-487c-fcba-9e7325821b7c"
      },
      "outputs": [],
      "source": [
        "#mostramos que contiene el dataset\n",
        "print(boston.data)"
      ]
    },
    {
      "cell_type": "code",
      "execution_count": null,
      "metadata": {
        "colab": {
          "base_uri": "https://localhost:8080/"
        },
        "id": "r5BpvOgVm3Nc",
        "outputId": "817f65fb-391b-4785-a7cc-0a7a3d35095d"
      },
      "outputs": [],
      "source": [
        "#analizamos los precios de las casas\n",
        "print(boston.target)"
      ]
    },
    {
      "cell_type": "code",
      "execution_count": null,
      "metadata": {
        "colab": {
          "base_uri": "https://localhost:8080/"
        },
        "id": "h7tp34sXm3RF",
        "outputId": "9b2a25da-fcd2-4bef-c10c-2466344510d4"
      },
      "outputs": [],
      "source": [
        "#observammos los nombres de las variables\n",
        "print(boston.feature_names)"
      ]
    },
    {
      "cell_type": "markdown",
      "metadata": {
        "id": "mqDwQ864p1f9"
      },
      "source": [
        "###Preparando el conjunto de datos###"
      ]
    },
    {
      "cell_type": "code",
      "execution_count": null,
      "metadata": {
        "colab": {
          "base_uri": "https://localhost:8080/",
          "height": 206
        },
        "id": "PdGNsxcHm3Uc",
        "outputId": "72ee3b28-44d8-47fa-809c-29d03bdffed6"
      },
      "outputs": [],
      "source": [
        "#creamos un dataframe con los datos de boston\n",
        "#y pedimos ver los nombres de las columnas\n",
        "dataset = pd.DataFrame(boston.data, columns=boston.feature_names)\n",
        "dataset.head(5)"
      ]
    },
    {
      "cell_type": "code",
      "execution_count": null,
      "metadata": {
        "colab": {
          "base_uri": "https://localhost:8080/",
          "height": 206
        },
        "id": "tc9KWo8Aqi_k",
        "outputId": "30875dbd-11ee-4da3-ee4a-cbf05bdc9a4b"
      },
      "outputs": [],
      "source": [
        "#creo una nueva columna para mi variable dependiente\n",
        "# que en este caso es lo que quiero predecir, la renombro Price en lugar de\n",
        "# Target\n",
        "dataset[\"Price\"]=boston.target\n",
        "dataset.head(5)"
      ]
    },
    {
      "cell_type": "code",
      "execution_count": null,
      "metadata": {
        "colab": {
          "base_uri": "https://localhost:8080/"
        },
        "id": "6nR8zEuIqjB3",
        "outputId": "a76324ae-ad5f-489e-d0f6-b227c94a3970"
      },
      "outputs": [],
      "source": [
        "#hacemos un pequeño análisis\n",
        "dataset.info()"
      ]
    },
    {
      "cell_type": "code",
      "execution_count": null,
      "metadata": {
        "colab": {
          "base_uri": "https://localhost:8080/",
          "height": 320
        },
        "id": "1xHvufH7qjEu",
        "outputId": "3042fbc9-8e51-4c81-cb78-a178c572a1fe"
      },
      "outputs": [],
      "source": [
        "#Resumimos las estadisticas del dataset\n",
        "#solo nos servirá para las variables numéricas\n",
        "dataset.describe( )"
      ]
    },
    {
      "cell_type": "code",
      "execution_count": null,
      "metadata": {
        "colab": {
          "base_uri": "https://localhost:8080/"
        },
        "id": "VilmYISwqjRi",
        "outputId": "6275dbc7-6fc6-451b-bdaf-3dbbddc97187"
      },
      "outputs": [],
      "source": [
        "#verificamos que no haya valores perdidos\n",
        "#este paso es muy importante, .sum no sindica cuantoas valores nulos hay\n",
        "dataset.isnull().sum()"
      ]
    },
    {
      "cell_type": "code",
      "execution_count": null,
      "metadata": {
        "colab": {
          "base_uri": "https://localhost:8080/",
          "height": 332
        },
        "id": "kTHg4Hcom3Xt",
        "outputId": "9706ae2f-4891-45b0-dcac-91b9b90a5152"
      },
      "outputs": [],
      "source": [
        "#EDA (Exploratory Data Analysis)\n",
        "#como haremos una regresion lineal lo primero a analizar es la correlacion\n",
        "dataset.corr()"
      ]
    },
    {
      "cell_type": "code",
      "execution_count": null,
      "metadata": {
        "colab": {
          "base_uri": "https://localhost:8080/",
          "height": 975
        },
        "id": "Xlw63QFY5hOj",
        "outputId": "b1660dab-7145-460e-8512-773b7f7e2ab8"
      },
      "outputs": [],
      "source": [
        "#creamos un diagrama de dispersion\n",
        "import seaborn as sb\n",
        "sb.pairplot(dataset)"
      ]
    },
    {
      "cell_type": "markdown",
      "metadata": {
        "id": "GHsvvPlE6jlt"
      },
      "source": [
        "## Conclusiones a partir de la matriz de correlación:\n",
        "\n",
        "**Precio:**\n",
        "\n",
        "* Tiene una correlación positiva con factores como MedInc (Ingreso Mediano), AveRooms (Habitaciones Promedio) y AveBedrms (Dormitorios Promedio). Esto significa que las casas en áreas con mayor ingreso mediano, más habitaciones y más dormitorios tienden a tener precios más altos.\n",
        "* No tiene una correlación fuerte con Población o AveOccup (Ocupación Promedio). Esto sugiere que el precio no está necesariamente influenciado por la densidad de población general o el número promedio de personas que viven en una casa en un área.\n",
        "* Tiene una débil correlación negativa con Latitud y Longitud. Es difícil hacer fuertes inferencias a partir de una débil correlación negativa, pero podría indicar una ligera preferencia de precio por casas en ciertas ubicaciones geográficas.\n",
        "\n",
        "**MedInc (Ingreso Mediano):**\n",
        "\n",
        "* Tiene una débil correlación negativa con HouseAge (Antigüedad de la Vivienda). Esto podría significar que podría haber una ligera tendencia a que las casas más nuevas estén en áreas con menor ingreso mediano.\n",
        "\n",
        "**Antigüedad de la Vivienda:**\n",
        "\n",
        "* No tiene una correlación fuerte con la mayoría de los demás factores.\n",
        "\n",
        "**Habitaciones Promedio y Dormitorios Promedio:**\n",
        "\n",
        "* Tienen una correlación positiva muy fuerte entre sí (como se esperaba). Esto significa que las casas con más habitaciones tienden a tener también más dormitorios.\n",
        "* Tienen un patrón de correlación similar con Precio (correlación positiva) como se discutió anteriormente para Precio.\n",
        "\n",
        "**Latitud y Longitud:**\n",
        "\n",
        "* Tienen una correlación negativa muy fuerte entre sí. Esta correlación negativa perfecta indica que proporcionan la misma información, esencialmente representando la ubicación. Podría ser redundante usar ambos en un modelo.\n",
        "\n",
        "**En general:**\n",
        "\n",
        "La matriz de correlación sugiere que factores como el ingreso mediano, la cantidad de habitaciones y dormitorios son aspectos importantes que influyen en los precios de las viviendas. También sugiere que la ubicación (representada por Latitud y Longitud) podría ser un factor, pero usar solo uno de ellos podría ser suficiente. Sin embargo, es importante tener en cuenta que la correlación no implica causalidad. Se necesitaría un análisis más profundo para comprender las relaciones causales entre estos factores y el precio.\n"
      ]
    },
    {
      "cell_type": "code",
      "execution_count": null,
      "metadata": {
        "colab": {
          "base_uri": "https://localhost:8080/",
          "height": 466
        },
        "id": "MMoUD4cA5hRe",
        "outputId": "07e88f35-e39b-4420-b1d0-b15227addc01"
      },
      "outputs": [],
      "source": [
        "#creamos un plot de dispersion\n",
        "plt.scatter(dataset['MedInc'], dataset['Price'])\n",
        "plt.xlabel(\"Ingreso Medio\")\n",
        "plt.ylabel(\"Precio\")"
      ]
    },
    {
      "cell_type": "code",
      "execution_count": null,
      "metadata": {
        "colab": {
          "base_uri": "https://localhost:8080/",
          "height": 466
        },
        "id": "B-Jy9dj15hqw",
        "outputId": "517af663-7d86-4420-8f1e-3c389042e904"
      },
      "outputs": [],
      "source": [
        "#correlacion entre el ingreso medio y el precio de la casa\n",
        "sb.regplot(x=\"MedInc\", y=\"Price\", data= dataset)"
      ]
    },
    {
      "cell_type": "markdown",
      "metadata": {
        "id": "E5dXaH7i5TKR"
      },
      "source": [
        "##DEFINIMOS VARIABLES INDEPENDIENTES Y DEPENDIENTES##"
      ]
    },
    {
      "cell_type": "code",
      "execution_count": null,
      "metadata": {
        "id": "zHm0i3xV5htt"
      },
      "outputs": [],
      "source": [
        "x=dataset.iloc[:,:-1]\n",
        "y=dataset.iloc[:,-1]"
      ]
    },
    {
      "cell_type": "code",
      "execution_count": null,
      "metadata": {
        "colab": {
          "base_uri": "https://localhost:8080/",
          "height": 143
        },
        "id": "-Ent7BgO5hwX",
        "outputId": "da226576-cdd5-4101-dfa3-e289586b3edb"
      },
      "outputs": [],
      "source": [
        "x.head(3)"
      ]
    },
    {
      "cell_type": "code",
      "execution_count": null,
      "metadata": {
        "colab": {
          "base_uri": "https://localhost:8080/"
        },
        "id": "IP1czCPr5hzc",
        "outputId": "e44d1fe8-17c5-4060-9a3f-1abac46aa6b2"
      },
      "outputs": [],
      "source": [
        "y.head(3)"
      ]
    },
    {
      "cell_type": "markdown",
      "metadata": {
        "id": "kxlmzsOS6y5i"
      },
      "source": [
        "##DIVIDIR EL DATASET EN DATOS DE ENTRENAMIENTO Y TESTEO##\n"
      ]
    },
    {
      "cell_type": "code",
      "execution_count": null,
      "metadata": {
        "id": "t5Q8gK5Y5h1n"
      },
      "outputs": [],
      "source": [
        "from sklearn.model_selection import train_test_split\n",
        "x_train, x_test, y_train, y_test = train_test_split(x, y, test_size=0.2, random_state=42)"
      ]
    },
    {
      "cell_type": "code",
      "execution_count": null,
      "metadata": {
        "colab": {
          "base_uri": "https://localhost:8080/",
          "height": 424
        },
        "id": "S_8lpYqq6yM3",
        "outputId": "0b623bfd-4cb6-469b-932a-5343c08532f6"
      },
      "outputs": [],
      "source": [
        "#el 80% de los datos entrenaran el modelo\n",
        "x_train"
      ]
    },
    {
      "cell_type": "code",
      "execution_count": null,
      "metadata": {
        "colab": {
          "base_uri": "https://localhost:8080/",
          "height": 424
        },
        "id": "BjCc_JtC5h37",
        "outputId": "08de02a0-0bae-47d3-cf96-0f4332029cd4"
      },
      "outputs": [],
      "source": [
        "#el 20% de los datos haran las pruebas del modelo\n",
        "x_test"
      ]
    },
    {
      "cell_type": "markdown",
      "metadata": {
        "id": "ishB6jJR8h0q"
      },
      "source": [
        "##estandarizamos el dataset##\n"
      ]
    },
    {
      "cell_type": "code",
      "execution_count": null,
      "metadata": {
        "id": "1rlkMlK78J_5"
      },
      "outputs": [],
      "source": [
        "from sklearn.preprocessing import StandardScaler\n",
        "scaler=StandardScaler()"
      ]
    },
    {
      "cell_type": "code",
      "execution_count": null,
      "metadata": {
        "id": "OxEnlXqv8KCr"
      },
      "outputs": [],
      "source": [
        "x_train = scaler.fit_transform(x_train)"
      ]
    },
    {
      "cell_type": "code",
      "execution_count": null,
      "metadata": {
        "id": "4wfWJydM8KFm"
      },
      "outputs": [],
      "source": [
        "x_test = scaler.transform(x_test)"
      ]
    },
    {
      "cell_type": "markdown",
      "metadata": {
        "id": "mQnQmzwc-Zrl"
      },
      "source": [
        "##MODEL TRAINING##"
      ]
    },
    {
      "cell_type": "code",
      "execution_count": null,
      "metadata": {
        "id": "v5rLBpUy5h6H"
      },
      "outputs": [],
      "source": [
        "from sklearn.linear_model import LinearRegression"
      ]
    },
    {
      "cell_type": "code",
      "execution_count": null,
      "metadata": {
        "id": "dE2MMtxG_S1G"
      },
      "outputs": [],
      "source": [
        "regression = LinearRegression()"
      ]
    },
    {
      "cell_type": "code",
      "execution_count": null,
      "metadata": {
        "colab": {
          "base_uri": "https://localhost:8080/",
          "height": 75
        },
        "id": "XAl66PhY_cC0",
        "outputId": "b1ee2b17-19a1-4a06-e303-a85d04a05fe7"
      },
      "outputs": [],
      "source": [
        "regression.fit(x_train, y_train)"
      ]
    },
    {
      "cell_type": "code",
      "execution_count": null,
      "metadata": {
        "colab": {
          "base_uri": "https://localhost:8080/"
        },
        "id": "MtCMJv39_b3_",
        "outputId": "b82780a1-7307-4742-ed9b-11c43ad02ac5"
      },
      "outputs": [],
      "source": [
        "#vemos los coeficientes y los interceptos\n",
        "print(regression.coef_)"
      ]
    },
    {
      "cell_type": "code",
      "execution_count": null,
      "metadata": {
        "colab": {
          "base_uri": "https://localhost:8080/"
        },
        "id": "BLeXgbjc_bje",
        "outputId": "126ecaa8-76c5-4877-ad89-53bff51519c3"
      },
      "outputs": [],
      "source": [
        "print(regression.intercept_)"
      ]
    },
    {
      "cell_type": "code",
      "execution_count": null,
      "metadata": {
        "colab": {
          "base_uri": "https://localhost:8080/"
        },
        "id": "H0ZgOJ1vAtJ4",
        "outputId": "b5e52e8f-dedc-4ca9-e1bb-bc150f35d4db"
      },
      "outputs": [],
      "source": [
        "#sobre que parametros el modelo ha sido entrenado\n",
        "regression.get_params()"
      ]
    },
    {
      "cell_type": "markdown",
      "metadata": {
        "id": "-rjcHosZBHEC"
      },
      "source": [
        "##PREDICCION DEL MODELO CON DATOS DE PRUEBA##"
      ]
    },
    {
      "cell_type": "code",
      "execution_count": null,
      "metadata": {
        "id": "71F72CDUBJOW"
      },
      "outputs": [],
      "source": [
        "reg_pred = regression.predict(x_test)"
      ]
    },
    {
      "cell_type": "code",
      "execution_count": null,
      "metadata": {
        "colab": {
          "base_uri": "https://localhost:8080/"
        },
        "id": "0lm0n1-rBcXn",
        "outputId": "032898ce-f384-421b-f222-66e1e4cb06bf"
      },
      "outputs": [],
      "source": [
        "#vemos las predicciones del modelo\n",
        "reg_pred"
      ]
    },
    {
      "cell_type": "markdown",
      "metadata": {
        "id": "t4r8UzW2HS1P"
      },
      "source": [
        "##SUPOSICIONES##"
      ]
    },
    {
      "cell_type": "code",
      "execution_count": null,
      "metadata": {
        "colab": {
          "base_uri": "https://localhost:8080/",
          "height": 449
        },
        "id": "GnriuJIrBcUv",
        "outputId": "dde7cf8f-4bc1-454c-cef0-fe4348e01add"
      },
      "outputs": [],
      "source": [
        "#trazamos un diagrama de dispercion para las predicciones\n",
        "plt.scatter(y_test, reg_pred)"
      ]
    },
    {
      "cell_type": "code",
      "execution_count": null,
      "metadata": {
        "id": "Sz7WFO5TBcSH"
      },
      "outputs": [],
      "source": [
        "#errores residuales del modelo\n",
        "residuals = y_test-reg_pred"
      ]
    },
    {
      "cell_type": "code",
      "execution_count": null,
      "metadata": {
        "colab": {
          "base_uri": "https://localhost:8080/"
        },
        "id": "xJEpKgxnBcO6",
        "outputId": "44923db7-70af-4612-90ea-23c9b6a92bc0"
      },
      "outputs": [],
      "source": [
        "residuals"
      ]
    },
    {
      "cell_type": "code",
      "execution_count": null,
      "metadata": {
        "colab": {
          "base_uri": "https://localhost:8080/",
          "height": 523
        },
        "id": "Vghz-96cBcKu",
        "outputId": "47ed7a44-5f34-40f7-ac31-bc6e271c9f2b"
      },
      "outputs": [],
      "source": [
        "# creamos grafico para los residuos y ver los errores\n",
        "sb.displot(residuals, kind= \"kde\")"
      ]
    },
    {
      "cell_type": "code",
      "execution_count": null,
      "metadata": {
        "colab": {
          "base_uri": "https://localhost:8080/",
          "height": 447
        },
        "id": "EPNydKokBcHK",
        "outputId": "d93f55f4-b53f-4bbc-bebe-387832f1cfcb"
      },
      "outputs": [],
      "source": [
        "#creamos grafica respecto a las predicciones y los residuos\n",
        "#distribucion uniforme\n",
        "plt.scatter(reg_pred, residuals)"
      ]
    },
    {
      "cell_type": "code",
      "execution_count": null,
      "metadata": {
        "colab": {
          "base_uri": "https://localhost:8080/"
        },
        "id": "Ut4H57LdFG-9",
        "outputId": "949743bf-2a1e-471c-b492-1a10df24f764"
      },
      "outputs": [],
      "source": [
        "from sklearn.metrics import mean_squared_error\n",
        "from sklearn.metrics import mean_absolute_error\n",
        "\n",
        "print(mean_absolute_error(y_test, reg_pred))\n",
        "print(mean_squared_error(y_test, reg_pred))\n",
        "print(np.sqrt(mean_squared_error(y_test, reg_pred)))"
      ]
    },
    {
      "cell_type": "markdown",
      "metadata": {
        "id": "fN-ULIcDH9ZN"
      },
      "source": [
        "##APLICAMOS R CUADRADO Y R CUADRADO AJUSTADO (METRICAS DE RENDIMIENTO)##\n",
        "FORMULAS:  \n",
        "###R^2=1-SSR/SST###\n",
        "DONDE R^2= COEFICIENTE DE DETERMINACION\\\n",
        "SSR= SUM OF SQUARES OF RESIDUALS\\\n",
        "SST= SUM OF SQUARES TOTAL\\\n",
        "###R^2 AJUSTADA=1-[(1-R2)^(n-1)/(n-k-1)]###\n",
        "DONDE R^2= R^2 DEL MODELO\\\n",
        "n=NUMERO DE OBSERVACIONES\\\n",
        "k=NUMERO DE VARIABLES PREDICTORAS"
      ]
    },
    {
      "cell_type": "code",
      "execution_count": null,
      "metadata": {
        "colab": {
          "base_uri": "https://localhost:8080/"
        },
        "id": "6KFpqR73FG8m",
        "outputId": "fe64a5ad-e141-4fe7-aff3-55efb14ac791"
      },
      "outputs": [],
      "source": [
        "#r^2\n",
        "from sklearn.metrics import r2_score\n",
        "score=r2_score(y_test, reg_pred)\n",
        "print(score)"
      ]
    },
    {
      "cell_type": "code",
      "execution_count": null,
      "metadata": {
        "colab": {
          "base_uri": "https://localhost:8080/"
        },
        "id": "kNcBVvyvFG6K",
        "outputId": "5f3fdf3e-ed66-45fb-fcbc-55ded4e4b46d"
      },
      "outputs": [],
      "source": [
        "#^r^2 ajustado\n",
        "1-(1-score)*(len(y_test)-1)/(len(y_test)-x_test.shape[1]-1)"
      ]
    },
    {
      "cell_type": "markdown",
      "metadata": {
        "id": "1MNOAAMqNQ5M"
      },
      "source": [
        "##PREDECIR NUEVA DATA##"
      ]
    },
    {
      "cell_type": "code",
      "execution_count": null,
      "metadata": {
        "colab": {
          "base_uri": "https://localhost:8080/"
        },
        "id": "elrDj89IFG3M",
        "outputId": "4fd0c3cf-80f6-4c3b-d616-556f7ed5e3bc"
      },
      "outputs": [],
      "source": [
        "boston.data[0].reshape(1, -1)"
      ]
    },
    {
      "cell_type": "code",
      "execution_count": null,
      "metadata": {
        "colab": {
          "base_uri": "https://localhost:8080/"
        },
        "id": "9tYj7bsAO2tb",
        "outputId": "a676cf7c-e8e5-42c2-92d9-e83e2da9bcd0"
      },
      "outputs": [],
      "source": [
        "#transformamos la nueva data\n",
        "scaler.transform(boston.data[0].reshape(1, -1))"
      ]
    },
    {
      "cell_type": "code",
      "execution_count": null,
      "metadata": {
        "colab": {
          "base_uri": "https://localhost:8080/"
        },
        "id": "7Z9OiuOvOcO1",
        "outputId": "8b949913-fdc6-44c0-85cc-eae0d645eb50"
      },
      "outputs": [],
      "source": [
        "regression.predict(scaler.transform(boston.data[0].reshape(1, -1)))"
      ]
    },
    {
      "cell_type": "markdown",
      "metadata": {
        "id": "pAthBlpqRGGl"
      },
      "source": [
        "##Serializar el archivo del modelo para su implementación##"
      ]
    },
    {
      "cell_type": "code",
      "execution_count": null,
      "metadata": {
        "id": "r1hqt3w0OcKy"
      },
      "outputs": [],
      "source": [
        "import pickle"
      ]
    },
    {
      "cell_type": "code",
      "execution_count": null,
      "metadata": {
        "id": "pyc39eilOcFS"
      },
      "outputs": [],
      "source": [
        "pickle.dump(regression, open('regmodel.pkl', 'wb'))"
      ]
    },
    {
      "cell_type": "code",
      "execution_count": null,
      "metadata": {
        "id": "QsAGNvk6Ob3-"
      },
      "outputs": [],
      "source": [
        "pickled_model=pickle.load(open('regmodel.pkl', 'rb'))"
      ]
    },
    {
      "cell_type": "code",
      "execution_count": null,
      "metadata": {
        "colab": {
          "base_uri": "https://localhost:8080/"
        },
        "id": "y5HTcetXS2VH",
        "outputId": "5c24df17-145b-4122-d813-8894ed7c2c38"
      },
      "outputs": [],
      "source": [
        "pickled_model.predict(scaler.transform(boston.data[0].reshape(1, -1)))"
      ]
    }
  ],
  "metadata": {
    "colab": {
      "provenance": []
    },
    "kernelspec": {
      "display_name": "Python 3",
      "name": "python3"
    },
    "language_info": {
      "codemirror_mode": {
        "name": "ipython",
        "version": 3
      },
      "file_extension": ".py",
      "mimetype": "text/x-python",
      "name": "python",
      "nbconvert_exporter": "python",
      "pygments_lexer": "ipython3",
      "version": "3.7.0"
    }
  },
  "nbformat": 4,
  "nbformat_minor": 0
}
